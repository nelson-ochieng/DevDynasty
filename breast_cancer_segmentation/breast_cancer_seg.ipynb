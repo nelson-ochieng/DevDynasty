{
 "cells": [
  {
   "cell_type": "code",
   "execution_count": null,
   "metadata": {},
   "outputs": [],
   "source": [
    "import monai\n",
    "import torch\n",
    "import os\n",
    "import numpy as np\n",
    "import nibabel as nib\n",
    "import glob"
   ]
  },
  {
   "cell_type": "code",
   "execution_count": null,
   "metadata": {},
   "outputs": [],
   "source": [
    "#Initializing configurations\n",
    "configs = {\n",
    "    \"num_workers\": 4,\n",
    "    \"batch_size\": 8,\n",
    "    \"num_epochs\": 100,\n",
    "    \"learning_rate\": 0.01,\n",
    "    \"loss_function\": \"DiceLoss\",\n",
    "    \"model_type\": \"unet\",\n",
    "    \"model_params\": dict(spatial_dims=2,\n",
    "                  in_channels=3,\n",
    "                  out_channels=2,\n",
    "                  channels=(32,64,128,256,512),\n",
    "                  strides=(2,2,2,1,1,1),\n",
    "                  num_res_units=2,)\n",
    "\n",
    "}"
   ]
  },
  {
   "cell_type": "code",
   "execution_count": null,
   "metadata": {},
   "outputs": [],
   "source": [
    "from monai.config import print_config\n",
    "print_config()"
   ]
  },
  {
   "cell_type": "code",
   "execution_count": null,
   "metadata": {},
   "outputs": [],
   "source": [
    "from google.colab import drive\n",
    "drive.mount('/content/drive')"
   ]
  },
  {
   "cell_type": "code",
   "execution_count": null,
   "metadata": {},
   "outputs": [],
   "source": [
    "image_dir = \"/content/drive/MyDrive/datasets/dataset\"\n",
    "label_dir = \"/content/drive/MyDrive/datasets/dataset\""
   ]
  }
 ],
 "metadata": {
  "language_info": {
   "name": "python"
  }
 },
 "nbformat": 4,
 "nbformat_minor": 2
}
